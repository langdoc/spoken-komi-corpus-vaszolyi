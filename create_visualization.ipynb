{
 "cells": [
  {
   "cell_type": "code",
   "execution_count": 17,
   "metadata": {},
   "outputs": [],
   "source": [
    "import pympi\n",
    "import datetime\n",
    "from time import gmtime\n",
    "from time import strftime"
   ]
  },
  {
   "cell_type": "code",
   "execution_count": 2,
   "metadata": {},
   "outputs": [],
   "source": [
    "elan_file = pympi.Elan.Eaf(\"data/13755_2az-soft-haired-sister-song.eaf\")"
   ]
  },
  {
   "cell_type": "code",
   "execution_count": 5,
   "metadata": {},
   "outputs": [],
   "source": [
    "content = elan_file.get_annotation_data_for_tier(\"orth@UAK-F-1896\")\n",
    "notes = elan_file.get_annotation_data_for_tier(\"note(ref)@UAK-F-1896\")"
   ]
  },
  {
   "cell_type": "code",
   "execution_count": 7,
   "metadata": {},
   "outputs": [],
   "source": [
    "# notes"
   ]
  },
  {
   "cell_type": "code",
   "execution_count": 23,
   "metadata": {},
   "outputs": [],
   "source": [
    "file = open(\"docs/visualization.md\", \"w\")\n",
    "\n",
    "file.write(\"\"\"\n",
    "| Start         | End           | Text  |\n",
    "| ------------- |:-------------:| -----:|\n",
    "\"\"\")\n",
    "\n",
    "for utterance in content:\n",
    "    \n",
    "    file.write(f\"|{strftime('%H:%M:%S', gmtime(utterance[0] / 1000))} | {strftime('%H:%M:%S', gmtime(utterance[1] / 1000))} | {utterance[2]}|\\n\")\n",
    "\n",
    "file.close()"
   ]
  },
  {
   "cell_type": "code",
   "execution_count": null,
   "metadata": {},
   "outputs": [],
   "source": []
  }
 ],
 "metadata": {
  "kernelspec": {
   "display_name": "Python [conda env:murre]",
   "language": "python",
   "name": "conda-env-murre-py"
  },
  "language_info": {
   "codemirror_mode": {
    "name": "ipython",
    "version": 3
   },
   "file_extension": ".py",
   "mimetype": "text/x-python",
   "name": "python",
   "nbconvert_exporter": "python",
   "pygments_lexer": "ipython3",
   "version": "3.7.5"
  }
 },
 "nbformat": 4,
 "nbformat_minor": 4
}
